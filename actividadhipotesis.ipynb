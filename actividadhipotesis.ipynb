{
 "cells": [
  {
   "cell_type": "code",
   "execution_count": 1,
   "id": "8684797c-8ed4-481f-a60c-2ea4701734d0",
   "metadata": {},
   "outputs": [],
   "source": [
    "import numpy as np\n",
    "import pandas as pd\n",
    "import scipy as sp\n",
    "import scipy.stats as stats\n",
    "import matplotlib.pyplot as plt"
   ]
  },
  {
   "cell_type": "code",
   "execution_count": 2,
   "id": "40eb5631-e4ae-4ff3-9b29-8ffabefbf324",
   "metadata": {},
   "outputs": [],
   "source": [
    "#Errores Tipo I y Tipo II\n",
    "#Tipo I: Rechazar Ho --> Falso positivo\n",
    "#TipoII: No rechazar Ho --> falso negativo"
   ]
  },
  {
   "cell_type": "code",
   "execution_count": 3,
   "id": "bc214245-380b-4496-aebc-9998aa6dc80a",
   "metadata": {},
   "outputs": [
    {
     "data": {
      "text/plain": [
       "0.11718750000000014"
      ]
     },
     "execution_count": 3,
     "metadata": {},
     "output_type": "execute_result"
    }
   ],
   "source": [
    "\n",
    "# probalidad de que una moneda ciaga 7 veces cara, lazandola 10 veces\n",
    "\n",
    "stats.binom(10,0.5).pmf(7)"
   ]
  },
  {
   "cell_type": "code",
   "execution_count": 4,
   "id": "d0612a7f-32f2-4bf3-9f1a-42707f094dcb",
   "metadata": {},
   "outputs": [
    {
     "data": {
      "text/plain": [
       "0.017309024915637905"
      ]
     },
     "execution_count": 4,
     "metadata": {},
     "output_type": "execute_result"
    }
   ],
   "source": [
    "#Tenemos distribución norma, encontrar un área bajo la curba donde no se rechaza el llenado de botellas\n",
    "#Encontrar área entre dos puntos, z1=585, z2=615\n",
    "\n",
    "stats.norm.cdf(2)-stats.norm.cdf(1.75)"
   ]
  },
  {
   "cell_type": "code",
   "execution_count": 5,
   "id": "08ca98bc-b6f3-4bf9-8c59-cc65c2a9d7b0",
   "metadata": {},
   "outputs": [
    {
     "data": {
      "text/plain": [
       "0.1353352832366127"
      ]
     },
     "execution_count": 5,
     "metadata": {},
     "output_type": "execute_result"
    }
   ],
   "source": [
    "#Un albañil se equivoca en 2 ladrillos por línea que ponde en una barde. ¿Cúal es la probabilidad de que no se esquivoque el albañil?\n",
    "stats.poisson(2).pmf(0)"
   ]
  },
  {
   "cell_type": "markdown",
   "id": "f914541e-fa94-4d8b-8161-5d9f15a8bd6a",
   "metadata": {},
   "source": [
    "## Ejercicio 1\n"
   ]
  },
  {
   "cell_type": "code",
   "execution_count": 6,
   "id": "41421f2e-5d84-4c10-9a88-36b00a06932e",
   "metadata": {},
   "outputs": [
    {
     "data": {
      "text/plain": [
       "(1.1785113019775793, 1.6448536269514722, 0.11929641465821783)"
      ]
     },
     "execution_count": 6,
     "metadata": {},
     "output_type": "execute_result"
    }
   ],
   "source": [
    "sig=0.05\n",
    "t=300\n",
    "n=50\n",
    "m=305 #media\n",
    "s=30 #desviación estandar\n",
    "\n",
    "denom=s/(n**0.5) #(desvestan/raiz de #datos)\n",
    "\n",
    "\n",
    "z_score=(m-t)/denom #z_score=(X-H0)/(desvestan/raiz de #datos)\n",
    "ppf=stats.norm(0,1).ppf(1-sig) ## PPF es \n",
    "p_value=1-stats.norm(0,1).cdf(z_score)\n",
    "z_score,ppf,p_value\n"
   ]
  },
  {
   "cell_type": "markdown",
   "id": "b3872c5e-e5a3-4dff-bcfb-589007891455",
   "metadata": {},
   "source": [
    "## Ejercicio 2"
   ]
  },
  {
   "cell_type": "code",
   "execution_count": 8,
   "id": "690b4758-f10b-405b-a13e-97d56ed156a2",
   "metadata": {},
   "outputs": [
    {
     "data": {
      "text/plain": [
       "(-17.74823934929882,\n",
       " -2.575829303548901,\n",
       " 2.5758293035489004,\n",
       " 8.892133025881668e-71)"
      ]
     },
     "execution_count": 8,
     "metadata": {},
     "output_type": "execute_result"
    }
   ],
   "source": [
    "mue=35\n",
    "med=7.91\n",
    "dest=0.03\n",
    "alpha=0.01\n",
    "oz=8\n",
    "\n",
    "den=dest/(mue**0.5)\n",
    "\n",
    "z_score=(med-oz)/den\n",
    "ppfl=stats.norm(0,1).ppf(alpha/2)\n",
    "ppfu=stats.norm(0,1).ppf(1-alpha/2)\n",
    "p_value=stats.norm(0,1).cdf(z_score)\n",
    "\n",
    "z_score,ppfl,ppfu,p_value\n"
   ]
  },
  {
   "cell_type": "markdown",
   "id": "49e505e8-712a-4288-ac32-514af8e1d876",
   "metadata": {},
   "source": [
    "## Ejercicio 3"
   ]
  },
  {
   "cell_type": "code",
   "execution_count": 13,
   "id": "07fb7d10-e335-43b7-a1ec-e1b2150b3fa7",
   "metadata": {},
   "outputs": [
    {
     "data": {
      "text/html": [
       "<div>\n",
       "<style scoped>\n",
       "    .dataframe tbody tr th:only-of-type {\n",
       "        vertical-align: middle;\n",
       "    }\n",
       "\n",
       "    .dataframe tbody tr th {\n",
       "        vertical-align: top;\n",
       "    }\n",
       "\n",
       "    .dataframe thead th {\n",
       "        text-align: right;\n",
       "    }\n",
       "</style>\n",
       "<table border=\"1\" class=\"dataframe\">\n",
       "  <thead>\n",
       "    <tr style=\"text-align: right;\">\n",
       "      <th></th>\n",
       "      <th>Unnamed: 0</th>\n",
       "      <th>0</th>\n",
       "    </tr>\n",
       "  </thead>\n",
       "  <tbody>\n",
       "    <tr>\n",
       "      <th>0</th>\n",
       "      <td>0</td>\n",
       "      <td>16.357251</td>\n",
       "    </tr>\n",
       "    <tr>\n",
       "      <th>1</th>\n",
       "      <td>1</td>\n",
       "      <td>14.775995</td>\n",
       "    </tr>\n",
       "    <tr>\n",
       "      <th>2</th>\n",
       "      <td>2</td>\n",
       "      <td>16.220070</td>\n",
       "    </tr>\n",
       "    <tr>\n",
       "      <th>3</th>\n",
       "      <td>3</td>\n",
       "      <td>15.826246</td>\n",
       "    </tr>\n",
       "    <tr>\n",
       "      <th>4</th>\n",
       "      <td>4</td>\n",
       "      <td>15.169998</td>\n",
       "    </tr>\n",
       "    <tr>\n",
       "      <th>...</th>\n",
       "      <td>...</td>\n",
       "      <td>...</td>\n",
       "    </tr>\n",
       "    <tr>\n",
       "      <th>845</th>\n",
       "      <td>845</td>\n",
       "      <td>16.038042</td>\n",
       "    </tr>\n",
       "    <tr>\n",
       "      <th>846</th>\n",
       "      <td>846</td>\n",
       "      <td>16.252982</td>\n",
       "    </tr>\n",
       "    <tr>\n",
       "      <th>847</th>\n",
       "      <td>847</td>\n",
       "      <td>14.982693</td>\n",
       "    </tr>\n",
       "    <tr>\n",
       "      <th>848</th>\n",
       "      <td>848</td>\n",
       "      <td>15.887318</td>\n",
       "    </tr>\n",
       "    <tr>\n",
       "      <th>849</th>\n",
       "      <td>849</td>\n",
       "      <td>14.708798</td>\n",
       "    </tr>\n",
       "  </tbody>\n",
       "</table>\n",
       "<p>850 rows × 2 columns</p>\n",
       "</div>"
      ],
      "text/plain": [
       "     Unnamed: 0          0\n",
       "0             0  16.357251\n",
       "1             1  14.775995\n",
       "2             2  16.220070\n",
       "3             3  15.826246\n",
       "4             4  15.169998\n",
       "..          ...        ...\n",
       "845         845  16.038042\n",
       "846         846  16.252982\n",
       "847         847  14.982693\n",
       "848         848  15.887318\n",
       "849         849  14.708798\n",
       "\n",
       "[850 rows x 2 columns]"
      ]
     },
     "execution_count": 13,
     "metadata": {},
     "output_type": "execute_result"
    }
   ],
   "source": [
    "df=pd.read_csv(\"water.csv\")\n",
    "df"
   ]
  },
  {
   "cell_type": "code",
   "execution_count": 14,
   "id": "530c3658-bd85-4302-b266-2ff737b9af95",
   "metadata": {},
   "outputs": [
    {
     "data": {
      "text/html": [
       "<div>\n",
       "<style scoped>\n",
       "    .dataframe tbody tr th:only-of-type {\n",
       "        vertical-align: middle;\n",
       "    }\n",
       "\n",
       "    .dataframe tbody tr th {\n",
       "        vertical-align: top;\n",
       "    }\n",
       "\n",
       "    .dataframe thead th {\n",
       "        text-align: right;\n",
       "    }\n",
       "</style>\n",
       "<table border=\"1\" class=\"dataframe\">\n",
       "  <thead>\n",
       "    <tr style=\"text-align: right;\">\n",
       "      <th></th>\n",
       "      <th>Unnamed: 0</th>\n",
       "      <th>0</th>\n",
       "    </tr>\n",
       "  </thead>\n",
       "  <tbody>\n",
       "    <tr>\n",
       "      <th>count</th>\n",
       "      <td>850.00000</td>\n",
       "      <td>850.000000</td>\n",
       "    </tr>\n",
       "    <tr>\n",
       "      <th>mean</th>\n",
       "      <td>424.50000</td>\n",
       "      <td>15.914423</td>\n",
       "    </tr>\n",
       "    <tr>\n",
       "      <th>std</th>\n",
       "      <td>245.51816</td>\n",
       "      <td>0.994445</td>\n",
       "    </tr>\n",
       "    <tr>\n",
       "      <th>min</th>\n",
       "      <td>0.00000</td>\n",
       "      <td>12.632000</td>\n",
       "    </tr>\n",
       "    <tr>\n",
       "      <th>25%</th>\n",
       "      <td>212.25000</td>\n",
       "      <td>15.272372</td>\n",
       "    </tr>\n",
       "    <tr>\n",
       "      <th>50%</th>\n",
       "      <td>424.50000</td>\n",
       "      <td>15.914169</td>\n",
       "    </tr>\n",
       "    <tr>\n",
       "      <th>75%</th>\n",
       "      <td>636.75000</td>\n",
       "      <td>16.541769</td>\n",
       "    </tr>\n",
       "    <tr>\n",
       "      <th>max</th>\n",
       "      <td>849.00000</td>\n",
       "      <td>19.486895</td>\n",
       "    </tr>\n",
       "  </tbody>\n",
       "</table>\n",
       "</div>"
      ],
      "text/plain": [
       "       Unnamed: 0           0\n",
       "count   850.00000  850.000000\n",
       "mean    424.50000   15.914423\n",
       "std     245.51816    0.994445\n",
       "min       0.00000   12.632000\n",
       "25%     212.25000   15.272372\n",
       "50%     424.50000   15.914169\n",
       "75%     636.75000   16.541769\n",
       "max     849.00000   19.486895"
      ]
     },
     "execution_count": 14,
     "metadata": {},
     "output_type": "execute_result"
    }
   ],
   "source": [
    "df.describe()"
   ]
  },
  {
   "cell_type": "code",
   "execution_count": 20,
   "id": "4b236a4d-25dd-4b5f-8116-474c8d20870f",
   "metadata": {},
   "outputs": [
    {
     "name": "stdout",
     "output_type": "stream",
     "text": [
      " Zscore : -2.5163605432501086, ppfl=13.600743988399454, Pvalue=5.543618294515544e-77, conclusión; no se rechaza la hipotesis\n"
     ]
    }
   ],
   "source": [
    "m=850\n",
    "med=15.914169\n",
    "std=0.994445\n",
    "alpha=0.01\n",
    "oz=16\n",
    "\n",
    "den=std/(m**0.5) #(desvestan/raiz de #datos)\n",
    "\n",
    "z_score=(med-oz)/den #z_score=(X-H0)/(desvestan/raiz de #datos)\n",
    "\n",
    "ppfl=stats.norm(med,std).ppf(alpha)\n",
    "#ppfu=stats.norm(0,1).ppf(1-alpha/2)\n",
    "\n",
    "p_value=stats.norm(med,std).cdf(z_score)\n",
    "\n",
    "z_score,ppfl,p_value\n",
    "\n",
    "print(f' Zscore : {z_score}, ppfl={ppfl}, Pvalue={p_value}, conclusión; se rechaza la hipotesis')"
   ]
  },
  {
   "cell_type": "markdown",
   "id": "299fe3d4-1782-4760-8415-2ba1bbe87edb",
   "metadata": {},
   "source": [
    "## Ejercicio 4"
   ]
  },
  {
   "cell_type": "code",
   "execution_count": 22,
   "id": "0950992e-82db-4530-9962-83afc9d11e88",
   "metadata": {},
   "outputs": [
    {
     "data": {
      "text/plain": [
       "(2.1920465567410328, 174.7969293162722, 0.014188072549385256)"
      ]
     },
     "execution_count": 22,
     "metadata": {},
     "output_type": "execute_result"
    }
   ],
   "source": [
    "m=25\n",
    "med=174.52\n",
    "std=10.31\n",
    "alpha=0.01\n",
    "h0=170\n",
    "\n",
    "den=std/(m**0.5) #(desvestan/raiz de #datos)\n",
    "z_score=(med-h0)/den #z_score=(X-H0)/(desvestan/raiz de #datos)\n",
    "\n",
    "ppf=stats.norm(h0,den).ppf(1-alpha)\n",
    "p_value=1-stats.norm(0,1).cdf(z_score)\n",
    "z_score,ppf,p_value"
   ]
  },
  {
   "cell_type": "code",
   "execution_count": 21,
   "id": "b664b0ce-24fa-4ac6-9db0-2d6694876c75",
   "metadata": {},
   "outputs": [
    {
     "name": "stdout",
     "output_type": "stream",
     "text": [
      " el valor de P es de: 0.018951760938420104, Mayor que alpha, por lo tanto, se acepta la hipotesis\n"
     ]
    }
   ],
   "source": [
    "h0=170\n",
    "m=25\n",
    "med=174.52\n",
    "std=10.31\n",
    "alpha=0.01\n",
    "\n",
    "den=std/(m**0.5) #(desvestan/raiz de #datos)\n",
    "\n",
    "t=stats.t(df=25, loc=h0, scale= den)\n",
    "\n",
    "print(f' el valor de P es de: {1-t.cdf(med)}, Mayor que alpha, por lo tanto, se acepta la hipotesis')\n"
   ]
  },
  {
   "cell_type": "markdown",
   "id": "13e11e23-8bfa-46bb-b033-1934b6599afa",
   "metadata": {},
   "source": [
    "## Ejercicio 5"
   ]
  },
  {
   "cell_type": "code",
   "execution_count": 29,
   "id": "bced1c86-0acf-4282-92d3-5064628d4894",
   "metadata": {},
   "outputs": [
    {
     "name": "stdout",
     "output_type": "stream",
     "text": [
      " el valor de P es de: 0.027454140554840592, Mayor que alpha, por lo tanto, se acepta la hipotesis\n"
     ]
    }
   ],
   "source": [
    "## es del tipo t y no Z\n",
    "n=15\n",
    "med=16\n",
    "std=0.8\n",
    "alpha=0.05\n",
    "H0=16.43\n",
    "\n",
    "\n",
    "den=std/(n**0.5) #(desvestan/raiz de #datos)\n",
    "\n",
    "t=stats.t(df=15, loc=H0, scale= den)\n",
    "\n",
    "print(f' el valor de P es de: {t.cdf(med)}, Mayor que alpha, por lo tanto, se acepta la hipotesis')"
   ]
  },
  {
   "cell_type": "markdown",
   "id": "c114e358-3f16-431b-a9a7-e3d9224e6c3e",
   "metadata": {},
   "source": [
    "## Ejercicio 6"
   ]
  },
  {
   "cell_type": "code",
   "execution_count": 31,
   "id": "427cd13c-293c-4d4e-87ee-cfd1d51d506a",
   "metadata": {},
   "outputs": [
    {
     "data": {
      "text/plain": [
       "0.689909418247621"
      ]
     },
     "execution_count": 31,
     "metadata": {},
     "output_type": "execute_result"
    }
   ],
   "source": [
    "n=91\n",
    "med=16\n",
    "p=med/n;p\n",
    "p0=0.15\n",
    "alpha=0.1\n",
    "\n",
    "z= (p-p0)/ ((p0*(1-p0)/n)**0.5);z"
   ]
  },
  {
   "cell_type": "code",
   "execution_count": 32,
   "id": "93c823db-7e71-4525-a0f3-81b8475e8783",
   "metadata": {},
   "outputs": [
    {
     "data": {
      "text/plain": [
       "1.2815515655446004"
      ]
     },
     "execution_count": 32,
     "metadata": {},
     "output_type": "execute_result"
    }
   ],
   "source": [
    "stats.norm(0,1).ppf(0.9)"
   ]
  },
  {
   "cell_type": "code",
   "execution_count": 33,
   "id": "86370dba-166a-4e6b-91ae-f66c2641aa98",
   "metadata": {},
   "outputs": [
    {
     "name": "stdout",
     "output_type": "stream",
     "text": [
      " el valor de Z es de: 0.027454140554840592, menor que 1.2815515655446004, por lo tanto, se acepta la hipotesis\n"
     ]
    }
   ],
   "source": [
    "print(f' el valor de Z es de: {t.cdf(med)}, menor que {stats.norm(0,1).ppf(0.9)}, por lo tanto, se acepta la hipotesis')"
   ]
  },
  {
   "cell_type": "code",
   "execution_count": null,
   "id": "7c04a5be-3100-4222-9996-a794e1d9b8f5",
   "metadata": {},
   "outputs": [],
   "source": []
  }
 ],
 "metadata": {
  "kernelspec": {
   "display_name": "Python 3",
   "language": "python",
   "name": "python3"
  },
  "language_info": {
   "codemirror_mode": {
    "name": "ipython",
    "version": 3
   },
   "file_extension": ".py",
   "mimetype": "text/x-python",
   "name": "python",
   "nbconvert_exporter": "python",
   "pygments_lexer": "ipython3",
   "version": "3.6.13"
  }
 },
 "nbformat": 4,
 "nbformat_minor": 5
}
